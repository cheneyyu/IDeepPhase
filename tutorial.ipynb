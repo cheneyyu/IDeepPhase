{
 "cells": [
  {
   "cell_type": "markdown",
   "metadata": {},
   "source": [
    "## IDeepPhase tutorial"
   ]
  },
  {
   "cell_type": "code",
   "execution_count": null,
   "metadata": {},
   "outputs": [],
   "source": [
    "%reload_ext autoreload\n",
    "%autoreload 2\n",
    "%matplotlib inline\n",
    "\n",
    "import os\n",
    "import numpy as np\n",
    "import pandas as pd\n",
    "import keras as K\n",
    "from keras.preprocessing.image import ImageDataGenerator\n",
    "from keras.preprocessing import image\n",
    "from keras.layers import Activation,Dropout,Flatten,Dense,Convolution2D,MaxPooling2D,GlobalAveragePooling2D\n",
    "from keras.applications import ResNet50\n",
    "from keras.models import Model,Sequential\n",
    "\n",
    "\n",
    "\n",
    "def greenonly(x):\n",
    "    return x*[0.,1.,0.]\n",
    "\n",
    "#Setting training and validation data\n",
    "\n",
    "sz = 512\n",
    "batch_size = 64\n",
    "train_data_dir = 'data_train/'\n",
    "validation_data_dir = 'data_test/'\n",
    "train_datagen = ImageDataGenerator(rescale=1./255,\n",
    "                rotation_range=180,\n",
    "                horizontal_flip = True)\n",
    "                                   # ,preprocessing_function=greenonly)\n",
    "test_datagen = ImageDataGenerator(rescale=1./255)\n",
    "                                  #,preprocessing_function=greenonly)\n",
    "train_generator = train_datagen.flow_from_directory(train_data_dir,shuffle = True,\n",
    "                                                    target_size = (sz,sz),\n",
    "                                                   batch_size = batch_size,class_mode = 'binary')\n",
    "validation_generator = test_datagen.flow_from_directory(validation_data_dir,\n",
    "                                                       shuffle = False,\n",
    "                                                       target_size = (sz,sz),\n",
    "                                                       batch_size = batch_size,\n",
    "                                                       class_mode = 'binary')\n",
    "\n",
    "if K.backend.image_dim_ordering() == 'th':\n",
    "    input_shape = (3, sz, sz)\n",
    "else:\n",
    "    input_shape = (sz, sz, 3)\n"
   ]
  },
  {
   "cell_type": "code",
   "execution_count": null,
   "metadata": {
    "scrolled": true
   },
   "outputs": [],
   "source": [
    "#Building CNN\n",
    "\n",
    "model = Sequential()\n",
    "model.add(Convolution2D(32, (3, 3), input_shape=input_shape))\n",
    "model.add(Activation('relu'))\n",
    "model.add(MaxPooling2D(pool_size=(2, 2)))\n",
    "\n",
    "model.add(Convolution2D(32, (3, 3)))\n",
    "model.add(Activation('relu'))\n",
    "model.add(MaxPooling2D(pool_size=(2, 2)))\n",
    "\n",
    "model.add(Convolution2D(32, (3, 3)))\n",
    "model.add(Activation('relu'))\n",
    "model.add(MaxPooling2D(pool_size=(2, 2)))\n",
    "\n",
    "model.add(Convolution2D(32, (3, 3)))\n",
    "model.add(Activation('relu'))\n",
    "model.add(MaxPooling2D(pool_size=(2, 2)))\n",
    "\n",
    "model.add(Convolution2D(64, (3, 3)))\n",
    "model.add(Activation('relu'))\n",
    "model.add(MaxPooling2D(pool_size=(2, 2)))\n",
    "\n",
    "model.add(GlobalAveragePooling2D())\n",
    "model.add(Dense(64))\n",
    "model.add(Activation('relu'))\n",
    "model.add(Dropout(0.5))\n",
    "model.add(Dense(1))\n",
    "model.add(Activation('sigmoid'))\n",
    "\n",
    "model.compile(loss='binary_crossentropy',\n",
    "              optimizer='adam',\n",
    "              metrics=['accuracy'])\n"
   ]
  },
  {
   "cell_type": "code",
   "execution_count": null,
   "metadata": {},
   "outputs": [],
   "source": [
    "# Training the model\n",
    "%%time\n",
    "model.fit_generator(train_generator,\n",
    "                    train_generator.n // batch_size,\n",
    "                   epochs = 50,\n",
    "                   workers = 8,\n",
    "                   validation_data = validation_generator,\n",
    "                   validation_steps = validation_generator.n // batch_size,class_weight=[0.2,0.8]\n",
    "                   )\n"
   ]
  },
  {
   "cell_type": "code",
   "execution_count": null,
   "metadata": {},
   "outputs": [],
   "source": [
    "# Or using pretrained weight\n",
    "model.load_weights('pretrained.h5')"
   ]
  },
  {
   "cell_type": "code",
   "execution_count": null,
   "metadata": {},
   "outputs": [],
   "source": [
    "# Calculating scores for all images\n",
    "\n",
    "file=os.listdir('data_exam\\\\').copy()\n",
    "img=[]\n",
    "for j in range(100):\n",
    "    try:\n",
    "        target_tensor=[]\n",
    "        target_filename=[]\n",
    "        for i in file[j::100]:\n",
    "            try:\n",
    "                x = image.load_img('data_exam\\\\'+i, target_size=(512,512))\n",
    "                x = image.img_to_array(x)\n",
    "                x = greenonly(x)\n",
    "                x = x.reshape((1,) + x.shape)\n",
    "                x = x/255.\n",
    "                target_tensor.append(x)\n",
    "                target_filename.append(i)\n",
    "            except:pass\n",
    "        score_img=pd.concat([pd.DataFrame(model.predict(np.vstack(target_tensor))),pd.DataFrame(target_filename,columns=['image'])],axis=1).copy()\n",
    "        img.append(score_img)\n",
    "    except:pass"
   ]
  },
  {
   "cell_type": "code",
   "execution_count": null,
   "metadata": {},
   "outputs": [],
   "source": [
    "file=os.listdir('data_exam\\\\').copy()\n",
    "img=[]\n",
    "for i in file:\n",
    "    x = image.load_img('data_exam\\\\'+i, target_size=(512,512))\n",
    "    x = image.img_to_array(x)\n",
    "    x = greenonly(x)\n",
    "    x = x.reshape((1,) + x.shape)\n",
    "    x = x/255.\n",
    "    img.append([i,model.predict(x)[0][0]])"
   ]
  },
  {
   "cell_type": "code",
   "execution_count": null,
   "metadata": {},
   "outputs": [],
   "source": [
    "# Output\n",
    "pd.DataFrame(img).to_csv('output.csv')"
   ]
  }
 ],
 "metadata": {
  "kernelspec": {
   "display_name": "Python 3",
   "language": "python",
   "name": "python3"
  }
 },
 "nbformat": 4,
 "nbformat_minor": 2
}
